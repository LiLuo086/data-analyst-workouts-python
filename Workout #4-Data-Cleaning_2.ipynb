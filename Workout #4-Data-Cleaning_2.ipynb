{
 "cells": [
  {
   "cell_type": "markdown",
   "id": "cacac6f4",
   "metadata": {},
   "source": [
    "### Table of Content\n",
    "- [Import Data](Import-Data)"
   ]
  },
  {
   "cell_type": "code",
   "execution_count": null,
   "id": "be5eeea2",
   "metadata": {},
   "outputs": [],
   "source": [
    "# import necessary libraries\n",
    "import pandas as pd\n",
    "import numpy as np\n",
    "from pathlib import Path"
   ]
  }
 ],
 "metadata": {
  "language_info": {
   "name": "python"
  }
 },
 "nbformat": 4,
 "nbformat_minor": 5
}
